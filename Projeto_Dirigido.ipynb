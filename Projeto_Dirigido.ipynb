{
  "nbformat": 4,
  "nbformat_minor": 0,
  "metadata": {
    "colab": {
      "provenance": [],
      "authorship_tag": "ABX9TyMRpuUbYOFgIELVIdmL+tRX",
      "include_colab_link": true
    },
    "kernelspec": {
      "name": "python3",
      "display_name": "Python 3"
    },
    "language_info": {
      "name": "python"
    }
  },
  "cells": [
    {
      "cell_type": "markdown",
      "metadata": {
        "id": "view-in-github",
        "colab_type": "text"
      },
      "source": [
        "<a href=\"https://colab.research.google.com/github/Noniskin/Projeto-Dirigido/blob/main/Projeto_Dirigido.ipynb\" target=\"_parent\"><img src=\"https://colab.research.google.com/assets/colab-badge.svg\" alt=\"Open In Colab\"/></a>"
      ]
    },
    {
      "cell_type": "markdown",
      "source": [
        "Importando os arquivos csv para análise"
      ],
      "metadata": {
        "id": "u2zH6qOGKbPF"
      }
    },
    {
      "cell_type": "code",
      "execution_count": null,
      "metadata": {
        "id": "fbAkHvwiWO1K"
      },
      "outputs": [],
      "source": [
        "#Adquirindo os arquivos CSV para obter os dados necessários para análise\n",
        "import pandas as pd\n",
        "\n",
        "df_Premier = pd.read_csv('Premier League.csv')\n",
        "df_Liga = pd.read_csv('La Liga.csv')\n",
        "df_Serie = pd.read_csv('Serie A.csv')"
      ]
    },
    {
      "cell_type": "markdown",
      "source": [
        "PREMIER LEAGUE\n"
      ],
      "metadata": {
        "id": "yohx1fJjF07L"
      }
    },
    {
      "cell_type": "markdown",
      "source": [
        "Os 5 primeiros e os 5 últimos da liga\n"
      ],
      "metadata": {
        "id": "T4wXz6x5F_-M"
      }
    },
    {
      "cell_type": "code",
      "source": [
        "#top 5\n",
        "top5_Premier = df_Premier.head(5)\n",
        "\n",
        "print(\"Premier League:\")\n",
        "print(top5_Premier.to_string(index=False))\n",
        "\n",
        "#bottom 5\n",
        "bottom5_Premier = df_Premier.tail(5)\n",
        "\n",
        "print(\"\\nPremier League:\")\n",
        "print(bottom5_Premier.to_string(index=False))"
      ],
      "metadata": {
        "colab": {
          "base_uri": "https://localhost:8080/"
        },
        "id": "T4-nAP3NeTsf",
        "outputId": "d50cb791-40c7-4b56-ce9c-dc110f9c7f1a"
      },
      "execution_count": null,
      "outputs": [
        {
          "output_type": "stream",
          "name": "stdout",
          "text": [
            "Premier League:\n",
            " posicao             clube  gastos  entradas  receitas  saida   saldo\n",
            "       1   Manchester City  155.00        29    162.17     24    7.17\n",
            "       2           Arsenal  186.40        25     23.80     18 -162.60\n",
            "       3 Manchester United  243.28        24     23.65     19 -219.63\n",
            "       4         Newcastle  185.00        15     14.06     12 -170.94\n",
            "       5         Liverpool  145.80        11     80.70     13  -65.10\n",
            "\n",
            "Premier League:\n",
            " posicao              clube  gastos  entradas  receitas  saida   saldo\n",
            "      16  Nottingham Forest  198.35        42       5.0     26 -193.35\n",
            "      17            Everton   83.07        17     103.6     19   20.53\n",
            "      18     Leicester City   49.00        10      81.4      9   32.40\n",
            "      19              Leeds  163.89        25     114.5     19  -49.39\n",
            "      20        Southampton  153.11        21       5.5     14 -147.61\n"
          ]
        }
      ]
    },
    {
      "cell_type": "markdown",
      "source": [
        "Comparação de gastos entre os 5 primeiros e 5 últimos da liga"
      ],
      "metadata": {
        "id": "_2QkT9jFGlMe"
      }
    },
    {
      "cell_type": "code",
      "source": [
        "df_Premier_ordenado = df_Premier.sort_values(by=['posicao'])\n",
        "\n",
        "top5_premier = df_Premier_ordenado.head(5)\n",
        "bottom5_premier = df_Premier_ordenado.tail(5)\n",
        "\n",
        "# média\n",
        "media_top5_premier = top5_premier['gastos'].mean()\n",
        "media_bottom5_premier = bottom5_premier['gastos'].mean()\n",
        "\n",
        "print(\"Premier League:\")\n",
        "print(\"Média de gastos em milhões de euros dos 5 melhores:\", round(media_top5_premier, 2))\n",
        "print(\"Média de gastos em milhões de euros dos 5 piores:\", round(media_bottom5_premier, 2))"
      ],
      "metadata": {
        "colab": {
          "base_uri": "https://localhost:8080/"
        },
        "id": "P45Z3fd6Gr-z",
        "outputId": "3339c723-cd64-4397-a601-632cc6688372"
      },
      "execution_count": null,
      "outputs": [
        {
          "output_type": "stream",
          "name": "stdout",
          "text": [
            "Premier League:\n",
            "Média de gastos em milhões de euros dos 5 melhores: 183.1\n",
            "Média de gastos em milhões de euros dos 5 piores: 129.48\n"
          ]
        }
      ]
    },
    {
      "cell_type": "markdown",
      "source": [
        "Comparação de entradas dos 5 melhores e 5 piores colocados\n"
      ],
      "metadata": {
        "id": "BcTKBXlmIXzG"
      }
    },
    {
      "cell_type": "code",
      "source": [
        "df_Premier_ordenado = df_Premier.sort_values(by=['posicao'])\n",
        "\n",
        "top5_premier = df_Premier_ordenado.head(5)\n",
        "bottom5_premier = df_Premier_ordenado.tail(5)\n",
        "# média\n",
        "media_top5_premier = top5_premier['entradas'].mean()\n",
        "media_bottom5_premier = bottom5_premier['entradas'].mean()\n",
        "\n",
        "print(\"Premier League:\")\n",
        "print(\"Média de entradas dos 5 melhores:\", round(media_top5_premier, 2))\n",
        "print(\"Média de entradas dos 5 piores:\", round(media_bottom5_premier, 2))"
      ],
      "metadata": {
        "colab": {
          "base_uri": "https://localhost:8080/"
        },
        "id": "8uq_-J71IXWO",
        "outputId": "37d473bc-d10d-4bc1-e4a2-7c38f8a146d3"
      },
      "execution_count": null,
      "outputs": [
        {
          "output_type": "stream",
          "name": "stdout",
          "text": [
            "Premier League:\n",
            "Média de entradas dos 5 melhores: 20.8\n",
            "Média de entradas dos 5 piores: 23.0\n"
          ]
        }
      ]
    },
    {
      "cell_type": "markdown",
      "source": [
        "LA LIGA\n"
      ],
      "metadata": {
        "id": "vobmYZU2HOO3"
      }
    },
    {
      "cell_type": "markdown",
      "source": [
        "Os 5 primeiros e os 5 últimos da liga"
      ],
      "metadata": {
        "id": "QjZ29I7VHQAl"
      }
    },
    {
      "cell_type": "code",
      "source": [
        "top5_Liga = df_Liga.head(5)\n",
        "\n",
        "print(\"La Liga:\")\n",
        "print(top5_Liga.to_string(index=False))\n",
        "\n",
        "bottom5_Liga = df_Liga.tail(5)\n",
        "\n",
        "print(\"La Liga:\")\n",
        "print(bottom5_Liga.to_string(index=False))"
      ],
      "metadata": {
        "colab": {
          "base_uri": "https://localhost:8080/"
        },
        "id": "0yBCo4v2HTjh",
        "outputId": "8925bf27-d68d-4faa-f53c-76aa28addf04"
      },
      "execution_count": null,
      "outputs": [
        {
          "output_type": "stream",
          "name": "stdout",
          "text": [
            "La Liga:\n",
            " posicao           clube  gastos  entradas  receitas  saida   saldo\n",
            "       1       Barcelona  158.00        16     39.50     22 -118.50\n",
            "       2     Real Madrid   80.00        12     92.15     13   12.15\n",
            "       3 Atletico Madrid   29.50        23     28.25     23   -1.25\n",
            "       4   Real Sociedad   55.00        17     80.50     15   25.50\n",
            "       5      Villarreal    6.48        17     31.60     18   25.12\n",
            "La Liga:\n",
            " posicao           clube  gastos  entradas  receitas  saida  saldo\n",
            "      16        Valencia   12.50        14      54.6     15  42.10\n",
            "      17         Almeria   37.08        23      22.2     24 -14.88\n",
            "      18 Real Vallodolid   12.30        26       1.3     28 -11.00\n",
            "      19        Espanyol   20.60        27      17.8     26  -2.80\n",
            "      20           Elche   13.16        20       9.4     18  -3.76\n"
          ]
        }
      ]
    },
    {
      "cell_type": "markdown",
      "source": [
        "Comparação de gastos entre os 5 primeiros e 5 últimos da liga"
      ],
      "metadata": {
        "id": "dysaWDB6HkRU"
      }
    },
    {
      "cell_type": "code",
      "source": [
        "df_Liga_ordenado = df_Liga.sort_values(by=['posicao'])\n",
        "\n",
        "top5_liga = df_Liga_ordenado.head(5)\n",
        "bottom5_liga = df_Liga_ordenado.tail(5)\n",
        "#média\n",
        "media_top5_liga = top5_liga['gastos'].mean()\n",
        "media_bottom5_liga = bottom5_liga['gastos'].mean()\n",
        "\n",
        "print(\"La Liga:\")\n",
        "print(\"Média de gastos em milhões de euros dos 5 melhores:\", round(media_top5_liga, 2))\n",
        "print(\"Média de gastos em milhões de euros dos 5 piores:\", round(media_bottom5_liga, 2))"
      ],
      "metadata": {
        "colab": {
          "base_uri": "https://localhost:8080/"
        },
        "id": "IjJ2btSxHlJq",
        "outputId": "3af0d1e0-5dbc-4946-b172-1b452fb8200d"
      },
      "execution_count": null,
      "outputs": [
        {
          "output_type": "stream",
          "name": "stdout",
          "text": [
            "La Liga:\n",
            "Média de gastos em milhões de euros dos 5 melhores: 65.8\n",
            "Média de gastos em milhões de euros dos 5 piores: 19.13\n"
          ]
        }
      ]
    },
    {
      "cell_type": "markdown",
      "source": [
        "Comparação de entradas dos 5 melhores e 5 piores colocados\n"
      ],
      "metadata": {
        "id": "GpKQJGk_IsaM"
      }
    },
    {
      "cell_type": "code",
      "source": [
        "df_Liga_ordenado = df_Liga.sort_values(by=['posicao'])\n",
        "\n",
        "top5_liga = df_Liga_ordenado.head(5)\n",
        "bottom5_liga = df_Liga_ordenado.tail(5)\n",
        "#média\n",
        "media_top5_liga = top5_liga['entradas'].mean()\n",
        "media_bottom5_liga = bottom5_liga['entradas'].mean()\n",
        "\n",
        "print(\"La Liga:\")\n",
        "print(\"Média de entradas dos 5 melhores:\", round(media_top5_liga, 2))\n",
        "print(\"Média de entradas dos 5 piores:\", round(media_bottom5_liga, 2))"
      ],
      "metadata": {
        "colab": {
          "base_uri": "https://localhost:8080/"
        },
        "id": "QechF9t8Is6J",
        "outputId": "d9411062-bb97-4a6b-dfab-65f5c13f13a2"
      },
      "execution_count": null,
      "outputs": [
        {
          "output_type": "stream",
          "name": "stdout",
          "text": [
            "La Liga:\n",
            "Média de entradas dos 5 melhores: 17.0\n",
            "Média de entradas dos 5 piores: 22.0\n"
          ]
        }
      ]
    },
    {
      "cell_type": "markdown",
      "source": [
        "SÉRIE A\n"
      ],
      "metadata": {
        "id": "69g2Y9TTH3aI"
      }
    },
    {
      "cell_type": "markdown",
      "source": [
        "Os 5 primeiros e os 5 últimos da liga"
      ],
      "metadata": {
        "id": "YjVRMJwWH43j"
      }
    },
    {
      "cell_type": "code",
      "source": [
        "top5_Serie = df_Serie.head(5)\n",
        "\n",
        "print(\"Serie A:\")\n",
        "print(top5_Serie.to_string(index=False))\n",
        "\n",
        "bottom5_Serie = df_Serie.tail(5)\n",
        "\n",
        "print(\"\\nSerie A:\")\n",
        "print(bottom5_Serie.to_string(index=False))"
      ],
      "metadata": {
        "colab": {
          "base_uri": "https://localhost:8080/"
        },
        "id": "4hQ-WOBAF9g5",
        "outputId": "8112645b-80d7-48a7-90cc-f0b826b002a1"
      },
      "execution_count": null,
      "outputs": [
        {
          "output_type": "stream",
          "name": "stdout",
          "text": [
            "Serie A:\n",
            " posicao    clube  gastos  entradas  receitas  saida   saldo\n",
            "       1   Napoli   79.30        33     86.38     31   7.080\n",
            "       2    Lazio   41.65        36     42.35     37   0.698\n",
            "       3    Inter   65.68        50     24.85     46 -40.830\n",
            "       4    Milan   58.29        30     11.11     28 -47.180\n",
            "       5 Atalanta  105.95        76    135.35     77  29.400\n",
            "\n",
            "Serie A:\n",
            " posicao     clube  gastos  entradas  receitas  saida  saldo\n",
            "      16     Lecce    4.63        32      3.60     28  -1.03\n",
            "      17    Verona   41.21        45     36.56     42  -4.66\n",
            "      18    Spezia   18.32        33     32.97     33  14.66\n",
            "      19 Cremonese   36.65        42      0.50     42 -36.15\n",
            "      20 Sampdoria    6.77        53     35.60     50  28.83\n"
          ]
        }
      ]
    },
    {
      "cell_type": "markdown",
      "source": [
        "Comparação de gastos entre os 5 primeiros e 5 últimos da liga\n"
      ],
      "metadata": {
        "id": "KbnT78E6ID-W"
      }
    },
    {
      "cell_type": "code",
      "source": [
        "df_Serie_ordenado = df_Serie.sort_values(by=['posicao'])\n",
        "\n",
        "top5_serie = df_Serie_ordenado.head(5)\n",
        "bottom5_serie = df_Serie_ordenado.tail(5)\n",
        "\n",
        "# média\n",
        "media_top5_serie = top5_serie['gastos'].mean()\n",
        "media_bottom5_serie = bottom5_serie['gastos'].mean()\n",
        "\n",
        "print(\"Serie A:\")\n",
        "print(\"Média de gastos dos 5 melhores:\", round(media_top5_serie, 2))\n",
        "print(\"Média de gastos dos 5 piores:\", round(media_bottom5_serie, 2))"
      ],
      "metadata": {
        "colab": {
          "base_uri": "https://localhost:8080/"
        },
        "id": "ts7Mgz2DgJvu",
        "outputId": "d764eb48-6cd0-4d77-d9b1-b08409b8e6a0"
      },
      "execution_count": null,
      "outputs": [
        {
          "output_type": "stream",
          "name": "stdout",
          "text": [
            "Serie A:\n",
            "Média de gastos dos 5 melhores: 70.17\n",
            "Média de gastos dos 5 piores: 21.52\n"
          ]
        }
      ]
    },
    {
      "cell_type": "markdown",
      "source": [
        "Comparação de entradas entre os 5 melhores e os 5 piores colocados"
      ],
      "metadata": {
        "id": "tKgYMFvwI1Ag"
      }
    },
    {
      "cell_type": "code",
      "source": [
        "df_Serie_ordenado = df_Serie.sort_values(by=['posicao'])\n",
        "\n",
        "\n",
        "top5_serie = df_Serie_ordenado.head(5)\n",
        "bottom5_serie = df_Serie_ordenado.tail(5)\n",
        "\n",
        "# média\n",
        "media_top5_serie = top5_serie['entradas'].mean()\n",
        "media_bottom5_serie = bottom5_serie['entradas'].mean()\n",
        "\n",
        "print(\"Serie A:\")\n",
        "print(\"Média de entradas dos 5 melhores:\", round(media_top5_serie, 2))\n",
        "print(\"Média de entradas dos 5 piores:\", round(media_bottom5_serie, 2))"
      ],
      "metadata": {
        "colab": {
          "base_uri": "https://localhost:8080/"
        },
        "id": "n0V4E1Bph6h6",
        "outputId": "e04e57fc-147e-47ba-d82a-0bb756e9c266"
      },
      "execution_count": null,
      "outputs": [
        {
          "output_type": "stream",
          "name": "stdout",
          "text": [
            "Serie A:\n",
            "Média de entradas dos 5 melhores: 45.0\n",
            "Média de entradas dos 5 piores: 41.0\n"
          ]
        }
      ]
    },
    {
      "cell_type": "markdown",
      "source": [
        "Comparação entre ligas"
      ],
      "metadata": {
        "id": "l-C7p5QeK2dn"
      }
    },
    {
      "cell_type": "markdown",
      "source": [
        "Clube que mais e o que menos gastou"
      ],
      "metadata": {
        "id": "Z7GKGGOCJRlY"
      }
    },
    {
      "cell_type": "code",
      "source": [
        "#Clube que mais gastou na temporada\n",
        "maior_premier = df_Premier['gastos'].max()\n",
        "maior_Liga = df_Liga['gastos'].max()\n",
        "maior_Serie = df_Serie['gastos'].max()\n",
        "\n",
        "#Clube que menos gastou na temporada\n",
        "menor_premier = df_Premier['gastos'].min()\n",
        "menor_Liga = df_Liga['gastos'].min()\n",
        "menor_Serie = df_Serie['gastos'].min()\n",
        "\n",
        "#Premier League\n",
        "mais_Premier = df_Premier[df_Premier['gastos'] == maior_premier]\n",
        "menos_Premier = df_Premier[df_Premier['gastos'] == menor_premier]\n",
        "\n",
        "#La Liga\n",
        "mais_Liga = df_Liga[df_Liga['gastos'] == maior_Liga]\n",
        "menos_Liga = df_Liga[df_Liga['gastos'] == menor_Liga]\n",
        "\n",
        "#Serie A\n",
        "mais_Serie = df_Serie[df_Serie['gastos'] == maior_Serie]\n",
        "menos_Serie = df_Serie[df_Serie['gastos'] == menor_Serie]\n",
        "\n",
        "# Premier League\n",
        "print(\"Clube que mais gastou na Premier League:\")\n",
        "print(mais_Premier.to_string(index=False))\n",
        "print(\"\\nClube que menos gastou na Premier League:\")\n",
        "print(menos_Premier.to_string(index=False))\n",
        "\n",
        "\n",
        "# La Liga\n",
        "print(\"\\nClube que mais gastou naLa Liga:\")\n",
        "print(mais_Liga.to_string(index=False))\n",
        "print(\"\\nClube que menos gastou na La Liga:\")\n",
        "print(menos_Liga.to_string(index=False))\n",
        "\n",
        "\n",
        "# Serie A\n",
        "print(\"\\nClube que mais gastou na Serie A:\")\n",
        "print(mais_Serie.to_string(index=False))\n",
        "print(\"\\nClube que menos gastou na Serie A:\")\n",
        "print(menos_Serie.to_string(index=False))"
      ],
      "metadata": {
        "colab": {
          "base_uri": "https://localhost:8080/"
        },
        "id": "ADkJiWNSZYHP",
        "outputId": "7a0979cd-9700-4e14-d4e2-99016d5d5c30"
      },
      "execution_count": null,
      "outputs": [
        {
          "output_type": "stream",
          "name": "stdout",
          "text": [
            "Clube que mais gastou na Premier League:\n",
            " posicao   clube  gastos  entradas  receitas  saida   saldo\n",
            "      12 Chelsea  630.25        28     67.86     25 -562.39\n",
            "\n",
            "Clube que menos gastou na Premier League:\n",
            " posicao          clube  gastos  entradas  receitas  saida  saldo\n",
            "      11 Crystal Palace    46.6        16      5.46     13 -41.15\n",
            "\n",
            "Clube que mais gastou naLa Liga:\n",
            " posicao     clube  gastos  entradas  receitas  saida  saldo\n",
            "       1 Barcelona   158.0        16      39.5     22 -118.5\n",
            "\n",
            "Clube que menos gastou na La Liga:\n",
            " posicao   clube  gastos  entradas  receitas  saida  saldo\n",
            "       7 Osasuna     2.0        11      0.25     14  -1.75\n",
            "\n",
            "Clube que mais gastou na Serie A:\n",
            " posicao    clube  gastos  entradas  receitas  saida  saldo\n",
            "       7 Juventus  122.75        25    111.59     24 -11.16\n",
            "\n",
            "Clube que menos gastou na Serie A:\n",
            " posicao clube  gastos  entradas  receitas  saida  saldo\n",
            "      16 Lecce    4.63        32       3.6     28  -1.03\n"
          ]
        }
      ]
    },
    {
      "cell_type": "markdown",
      "source": [
        "Médias de cada liga"
      ],
      "metadata": {
        "id": "KTNu_P7BKHYJ"
      }
    },
    {
      "cell_type": "code",
      "source": [
        "#médias de cada liga\n",
        "\n",
        "print(\"Médias de cada liga (gastos, entradas, receitas, saida, saldo):\")\n",
        "\n",
        "print(\"\\nPremier League:\")\n",
        "print(df_Premier[['gastos', 'entradas', 'receitas', 'saida', 'saldo']].mean().round(2))\n",
        "\n",
        "print(\"\\nLa Liga:\")\n",
        "print(df_Liga[['gastos', 'entradas', 'receitas', 'saida', 'saldo']].mean().round(2))\n",
        "\n",
        "print(\"\\nSerie A:\")\n",
        "print(df_Serie[['gastos', 'entradas', 'receitas', 'saida', 'saldo']].mean().round(2))"
      ],
      "metadata": {
        "colab": {
          "base_uri": "https://localhost:8080/"
        },
        "id": "YcpzE4heqh9e",
        "outputId": "91138bed-4038-4b83-acd7-4a65555a0186"
      },
      "execution_count": null,
      "outputs": [
        {
          "output_type": "stream",
          "name": "stdout",
          "text": [
            "Médias de cada liga (gastos, entradas, receitas, saida, saldo):\n",
            "\n",
            "Premier League:\n",
            "gastos      158.65\n",
            "entradas     21.30\n",
            "receitas     51.61\n",
            "saida        18.25\n",
            "saldo      -107.03\n",
            "dtype: float64\n",
            "\n",
            "La Liga:\n",
            "gastos      30.78\n",
            "entradas    19.10\n",
            "receitas    27.99\n",
            "saida       19.25\n",
            "saldo       -2.79\n",
            "dtype: float64\n",
            "\n",
            "Serie A:\n",
            "gastos      47.25\n",
            "entradas    39.80\n",
            "receitas    47.34\n",
            "saida       39.40\n",
            "saldo        0.08\n",
            "dtype: float64\n"
          ]
        }
      ]
    }
  ]
}